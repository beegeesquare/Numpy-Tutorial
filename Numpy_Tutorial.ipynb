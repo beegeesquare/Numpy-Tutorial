{
 "cells": [
  {
   "cell_type": "code",
   "execution_count": 4,
   "metadata": {
    "collapsed": true
   },
   "outputs": [],
   "source": [
    "%matplotlib inline\n",
    "import matplotlib.pyplot as plt"
   ]
  },
  {
   "cell_type": "markdown",
   "metadata": {},
   "source": [
    "# NumPy\n",
    "\n",
    "### Goals\n",
    "\n",
    " - What is numpy?: array, ndarray, and some operations\n",
    " "
   ]
  },
  {
   "cell_type": "code",
   "execution_count": 3,
   "metadata": {
    "collapsed": false
   },
   "outputs": [],
   "source": [
    "# These are the standard \"qualified\" (as) imports\n",
    "import numpy as np # This is the canocial import "
   ]
  },
  {
   "cell_type": "markdown",
   "metadata": {},
   "source": [
    "## NumPy\n",
    "\n",
    "If you've ever used MATLAB, you know that writing out loops to add two vectors / find dot products / multiply two matrices / etc. is possible but _very_ slow.  Instead, you should use \"vectorized\" built-in operations that can do the looping in a faster language or even pick a better algorithm.\n",
    "\n",
    "Python is similar.  _Numpy_ is the package that provides the means to do performant numerical calculations in Python.  If you've converted your problem into linear algebra and matrices, then _numpy_ will let you write it to run fast.\n",
    "\n",
    "**Why are Python arrays unsuitable for numerical computation?**\n",
    "\n",
    "There are two basic reasons why Python on its own is insufficient here:\n",
    "  - _Data structure._  A Python list is a complicated thing. Just consider something like:\n",
    "        \n",
    "           x = [1, \"23\", BeautifulSoup(urllib2.urlopen(\"https://www.google.com/#q=4\")), 5]\n",
    "    \n",
    "    where x[0] and x[3] are numbers (of some sort), x[1] is a string, and x[2] is a complicated object.  If you're familiar with a low-level language like C, just imagine how this must be stored in memory: \n",
    "    \n",
    "    > In the typical Python implementation, this might be stored as a linked list of pointers to \"Python object\" data structures which in turn store what class the object is an instance of, a pointer to a dictionary (i.e. hash table) of instance variables, and a pointer to a dictionary of class variables.  This is reasonable for x[2], but for x[0] and x[3]...\n",
    "    \n",
    "  - _Typing and dispatch._  When we write `x[0] + x[3]`, what happens?  You can overload `+` for all sorts of purposes in Python, and the decision of exactly what `+` means happens at run-time by a dictionary lookup.  If you were term-wise adding two arrays, `x` and `y`, then because arrays can contain elements of different types this has to happen _for each term_.\n",
    "\n",
    "**What numpy does for us:**\n",
    "\n",
    "The basic thing that `numpy` does is avoid these two problems by using ordinary C-style arrays of integers, floating point numbers, etc., along with functions that operate on them intelligently. It also gives us C-style higher dimensional arrays.\n",
    "\n",
    "Note that C-style arrays are good for more than just quickly performing operations through Python; they're also good for talking to existing C and Fortran code. This interoperability explains why `numpy` matters to you even if you won't do any matrix computations by hand: many of the libraries that you _will_ want to use will use `numpy` arrays under the hood.\n",
    "\n",
    "![Numpy Array vs. Python List](images/Numpy_Array_Vs_Python_List.svg \"Numpy Array vs. Python List\")\n",
    "[comment]: https://docs.google.com/drawings/d/1qsm90ZnesvtRr0_Y_hpJag5nragWv4fmkmfpBZRbxCQ/edit"
   ]
  },
  {
   "cell_type": "markdown",
   "metadata": {},
   "source": [
    "## Data types (the nouns):\n",
    "\n",
    "### `np.array`\n",
    "This is a C-style array. That is, it is just a big contiguous block of integers (or floats, or... but just one type per array) of fixed length.\n",
    "\n",
    "### `np.ndarray`\n",
    "This is a C-style \"n-D\" array.  That is, it is **also** just a big contiguous block of integers (or...) together with a factorization of its size into \"dimensions\"\n",
    "  \n",
    "  $$       N = n_1 n_2 ... n_d        $$\n",
    "  \n",
    "  In other words the arrays that you might denote [1,2,3,4] and [[1,2],[3,4]] have the same underlying block of values, just with different dimensions: the first one has [4], while the second [2,2].\n",
    "  \n",
    " For an alternate visual: Imagine a grid and numbering it by reading left to right -- next row -- left to right -- next row, etc.   For instance, in C the following bits of code are functionally equivalent\n",
    "  \n",
    "  >        \n",
    "          int chessboard[64];\n",
    "          //Do something\n",
    "          chessboard[8*row + column] += 1;\n",
    "  \n",
    "  and\n",
    "  \n",
    "  >        \n",
    "          int chessboard[8][8];\n",
    "          //Do something\n",
    "          chessboard[row][column] += 1;\n",
    "          \n",
    "  In this case the numbering (i.e. mapping to a single flat list of numbers) goes\n",
    "  >        \n",
    "          0  1  2  3  4  5  6  7\n",
    "          8  9 10 11 ..\n",
    "          16 ..\n",
    "          ..\n"
   ]
  },
  {
   "cell_type": "markdown",
   "metadata": {},
   "source": [
    "1. Print `numpy` version"
   ]
  },
  {
   "cell_type": "code",
   "execution_count": 6,
   "metadata": {
    "collapsed": false
   },
   "outputs": [
    {
     "name": "stdout",
     "output_type": "stream",
     "text": [
      "1.12.1\n",
      "atlas_3_10_blas_threads_info:\n",
      "    define_macros = [('HAVE_CBLAS', None), ('ATLAS_INFO', '\"\\\\\"None\\\\\"\"')]\n",
      "    library_dirs = ['C:\\\\projects\\\\numpy-wheels\\\\windows-wheel-builder\\\\atlas-builds\\\\atlas-3.11.38-sse2-64\\\\lib']\n",
      "    libraries = ['numpy-atlas']\n",
      "    language = c\n",
      "atlas_3_10_threads_info:\n",
      "    define_macros = [('ATLAS_INFO', '\"\\\\\"None\\\\\"\"')]\n",
      "    library_dirs = ['C:\\\\projects\\\\numpy-wheels\\\\windows-wheel-builder\\\\atlas-builds\\\\atlas-3.11.38-sse2-64\\\\lib']\n",
      "    libraries = ['numpy-atlas', 'numpy-atlas']\n",
      "    language = f77\n",
      "blis_info:\n",
      "  NOT AVAILABLE\n",
      "lapack_mkl_info:\n",
      "  NOT AVAILABLE\n",
      "blas_mkl_info:\n",
      "  NOT AVAILABLE\n",
      "lapack_opt_info:\n",
      "    define_macros = [('ATLAS_INFO', '\"\\\\\"None\\\\\"\"')]\n",
      "    library_dirs = ['C:\\\\projects\\\\numpy-wheels\\\\windows-wheel-builder\\\\atlas-builds\\\\atlas-3.11.38-sse2-64\\\\lib']\n",
      "    libraries = ['numpy-atlas', 'numpy-atlas']\n",
      "    language = f77\n",
      "openblas_lapack_info:\n",
      "  NOT AVAILABLE\n",
      "openblas_info:\n",
      "  NOT AVAILABLE\n",
      "blas_opt_info:\n",
      "    define_macros = [('HAVE_CBLAS', None), ('ATLAS_INFO', '\"\\\\\"None\\\\\"\"')]\n",
      "    library_dirs = ['C:\\\\projects\\\\numpy-wheels\\\\windows-wheel-builder\\\\atlas-builds\\\\atlas-3.11.38-sse2-64\\\\lib']\n",
      "    libraries = ['numpy-atlas']\n",
      "    language = c\n"
     ]
    }
   ],
   "source": [
    "print (np.__version__)\n",
    "np.show_config()"
   ]
  },
  {
   "cell_type": "markdown",
   "metadata": {},
   "source": [
    "2.Create an empty array"
   ]
  },
  {
   "cell_type": "code",
   "execution_count": 10,
   "metadata": {
    "collapsed": false
   },
   "outputs": [
    {
     "data": {
      "text/plain": [
       "array([[ 0.,  0.,  0.],\n",
       "       [ 0.,  0.,  0.]])"
      ]
     },
     "execution_count": 10,
     "metadata": {},
     "output_type": "execute_result"
    }
   ],
   "source": [
    "X = np.empty((2,3))  # allocates memory but does not write to it (dangerous)\n",
    "X"
   ]
  },
  {
   "cell_type": "code",
   "execution_count": 12,
   "metadata": {
    "collapsed": false
   },
   "outputs": [
    {
     "name": "stdout",
     "output_type": "stream",
     "text": [
      "[[  0.   0.   0.]\n",
      " [  0.   0. -10.]]\n"
     ]
    }
   ],
   "source": [
    "X[1, 2] = -10\n",
    "print (X)"
   ]
  },
  {
   "cell_type": "code",
   "execution_count": 9,
   "metadata": {
    "collapsed": false
   },
   "outputs": [
    {
     "data": {
      "text/plain": [
       "array([[ 0.,  0.,  0.],\n",
       "       [ 0.,  0.,  0.]])"
      ]
     },
     "execution_count": 9,
     "metadata": {},
     "output_type": "execute_result"
    }
   ],
   "source": [
    "Y = np.zeros((2,3))  # array of all zeros, this perhaps does not allocate memory\n",
    "Y"
   ]
  },
  {
   "cell_type": "code",
   "execution_count": 18,
   "metadata": {
    "collapsed": false
   },
   "outputs": [
    {
     "data": {
      "text/plain": [
       "array([[ 1.,  1.,  1.],\n",
       "       [ 1.,  1.,  1.]])"
      ]
     },
     "execution_count": 18,
     "metadata": {},
     "output_type": "execute_result"
    }
   ],
   "source": [
    "Z = np.ones((2,3))  # array of all ones\n",
    "Z"
   ]
  },
  {
   "cell_type": "code",
   "execution_count": 7,
   "metadata": {
    "collapsed": false
   },
   "outputs": [
    {
     "data": {
      "text/plain": [
       "True"
      ]
     },
     "execution_count": 7,
     "metadata": {},
     "output_type": "execute_result"
    }
   ],
   "source": [
    "Y.shape == Z.shape"
   ]
  },
  {
   "cell_type": "code",
   "execution_count": 25,
   "metadata": {
    "collapsed": false
   },
   "outputs": [
    {
     "name": "stdout",
     "output_type": "stream",
     "text": [
      "[1 1 1 1 1 1 1 1 1 1 1 1 1 1 1 1 1 1 1 1 1 1 1 1 1 1 1 1 1 1 1 1 1 1 1 1 1\n",
      " 1 1]\n"
     ]
    }
   ],
   "source": [
    "Z2 = np.ones_like(Y)  # array of ones with the shape of Y\n",
    "print (Z2)"
   ]
  },
  {
   "cell_type": "code",
   "execution_count": 28,
   "metadata": {
    "collapsed": false
   },
   "outputs": [
    {
     "data": {
      "text/plain": [
       "array([False, False, False, False, False, False, False, False, False,\n",
       "       False, False, False, False, False, False, False, False, False,\n",
       "       False, False, False, False, False, False, False, False, False,\n",
       "       False, False, False, False, False, False, False, False, False,\n",
       "       False, False, False], dtype=bool)"
      ]
     },
     "execution_count": 28,
     "metadata": {},
     "output_type": "execute_result"
    }
   ],
   "source": [
    "Y == Z2"
   ]
  },
  {
   "cell_type": "code",
   "execution_count": 33,
   "metadata": {
    "collapsed": false
   },
   "outputs": [
    {
     "name": "stdout",
     "output_type": "stream",
     "text": [
      "[1 1 1 0 1 1 0 1 0 1 1 0 0 1 0 1 0 0 0 0 1 1 0 0 1 0 0 0 1 0 1 1 0 0 1 1 1\n",
      " 0 0]\n"
     ]
    },
    {
     "data": {
      "text/plain": [
       "False"
      ]
     },
     "execution_count": 33,
     "metadata": {},
     "output_type": "execute_result"
    }
   ],
   "source": [
    "Y = np.random.randint(0, 2, Y.shape) # Create a random int array with the integers ranging from 0-1\n",
    "print (Y)\n",
    "np.all(Y == Z2) # If at least "
   ]
  },
  {
   "cell_type": "code",
   "execution_count": 34,
   "metadata": {
    "collapsed": false
   },
   "outputs": [
    {
     "name": "stdout",
     "output_type": "stream",
     "text": [
      "[[0 1 2]\n",
      " [3 4 5]\n",
      " [6 7 8]]\n"
     ]
    }
   ],
   "source": [
    "Z = np.arange(9).reshape(3,3)\n",
    "print(Z)"
   ]
  },
  {
   "cell_type": "code",
   "execution_count": 35,
   "metadata": {
    "collapsed": false
   },
   "outputs": [
    {
     "name": "stdout",
     "output_type": "stream",
     "text": [
      "(array([0, 1, 4], dtype=int64),)\n"
     ]
    }
   ],
   "source": [
    "# Find the indicies for a non-zero elements\n",
    "nz = np.nonzero([1,2,0,0,4,0])\n",
    "print(nz)"
   ]
  },
  {
   "cell_type": "code",
   "execution_count": 36,
   "metadata": {
    "collapsed": false
   },
   "outputs": [
    {
     "name": "stdout",
     "output_type": "stream",
     "text": [
      "[[ 1.  0.  0.]\n",
      " [ 0.  1.  0.]\n",
      " [ 0.  0.  1.]]\n"
     ]
    }
   ],
   "source": [
    "# Identity matrix\n",
    "I = np.eye(3)\n",
    "print (I)"
   ]
  },
  {
   "cell_type": "code",
   "execution_count": 39,
   "metadata": {
    "collapsed": false
   },
   "outputs": [
    {
     "name": "stdout",
     "output_type": "stream",
     "text": [
      "[[[ 0.52446477  0.8641849   0.04795129  0.45711582]\n",
      "  [ 0.18640269  0.38917484  0.25067046  0.6566361 ]\n",
      "  [ 0.34144908  0.19821065  0.79523365  0.96794757]\n",
      "  [ 0.07215518  0.9175837   0.77053211  0.51570688]\n",
      "  [ 0.85618302  0.12366711  0.52325418  0.80809165]]\n",
      "\n",
      " [[ 0.17915966  0.06753016  0.56195649  0.37761263]\n",
      "  [ 0.22720531  0.89717668  0.65989963  0.8724249 ]\n",
      "  [ 0.8677483   0.53891396  0.29648498  0.98294381]\n",
      "  [ 0.68769     0.57477144  0.2025861   0.12129629]\n",
      "  [ 0.39075559  0.28088254  0.80235127  0.89605874]]\n",
      "\n",
      " [[ 0.7268106   0.85663875  0.30187511  0.26431263]\n",
      "  [ 0.94122066  0.8452113   0.56402656  0.97448109]\n",
      "  [ 0.23057665  0.85195532  0.20133744  0.96149528]\n",
      "  [ 0.64167406  0.79381517  0.12100863  0.46306505]\n",
      "  [ 0.76719459  0.86829444  0.06568527  0.45340486]]]\n",
      "0.656636099832 0.656636099832\n"
     ]
    }
   ],
   "source": [
    "# Create a multi-dimensional array\n",
    "Z = np.random.random((3,5,4))\n",
    "print (Z)\n",
    "print (Z[0][1][3], Z[0,1,3]) # There are two ways to access the indicies"
   ]
  },
  {
   "cell_type": "code",
   "execution_count": 45,
   "metadata": {
    "collapsed": false
   },
   "outputs": [
    {
     "name": "stdout",
     "output_type": "stream",
     "text": [
      "0.00214132546312 0.995192010793\n"
     ]
    }
   ],
   "source": [
    "# Create a random matrix with \n",
    "Z = np.random.random((10,9))\n",
    "Zmin, Zmax = Z.min(), Z.max()\n",
    "print(Zmin, Zmax)"
   ]
  },
  {
   "cell_type": "code",
   "execution_count": 46,
   "metadata": {
    "collapsed": false
   },
   "outputs": [
    {
     "name": "stdout",
     "output_type": "stream",
     "text": [
      "0.483124110344\n",
      "[ 0.60527307  0.44762787  0.48035428  0.37010721  0.43354715  0.41950233\n",
      "  0.4368881   0.6185386   0.55616543  0.46323706]\n",
      "[ 0.32046186  0.4653391   0.51632977  0.47426414  0.40681931  0.71221609\n",
      "  0.53358375  0.52200077  0.39710219]\n"
     ]
    }
   ],
   "source": [
    "print (Z.mean())\n",
    "print (Z.mean(axis=1))\n",
    "print (Z.mean(axis=0))\n"
   ]
  },
  {
   "cell_type": "code",
   "execution_count": 48,
   "metadata": {
    "collapsed": false
   },
   "outputs": [
    {
     "name": "stdout",
     "output_type": "stream",
     "text": [
      "nan\n",
      "nan\n",
      "False\n",
      "False\n"
     ]
    }
   ],
   "source": [
    "# How to deal with NaN (Not a Number)\n",
    "print (np.nan)\n",
    "print (0*np.nan)\n",
    "print (np.nan == np.nan) # You cannnot compare nan with nan\n",
    "print (np.isfinite(np.nan))"
   ]
  },
  {
   "cell_type": "markdown",
   "metadata": {},
   "source": [
    "### Array indexing\n",
    "\n",
    "Numpy provides lots of ways to index into lists."
   ]
  },
  {
   "cell_type": "code",
   "execution_count": 36,
   "metadata": {
    "collapsed": false
   },
   "outputs": [
    {
     "data": {
      "text/plain": [
       "3"
      ]
     },
     "execution_count": 36,
     "metadata": {},
     "output_type": "execute_result"
    }
   ],
   "source": [
    "x = np.arange(10)\n",
    "y = x[2:5]  # like python list indexing\n",
    "len(y)"
   ]
  },
  {
   "cell_type": "code",
   "execution_count": 37,
   "metadata": {
    "collapsed": false
   },
   "outputs": [
    {
     "data": {
      "text/plain": [
       "(array([2]), 2)"
      ]
     },
     "execution_count": 37,
     "metadata": {},
     "output_type": "execute_result"
    }
   ],
   "source": [
    "# what's the difference?\n",
    "x[2:3], x[2]"
   ]
  },
  {
   "cell_type": "code",
   "execution_count": 58,
   "metadata": {
    "collapsed": false
   },
   "outputs": [
    {
     "name": "stdout",
     "output_type": "stream",
     "text": [
      "[20 21 22 23 24]\n",
      "[13 14 15 16 17 18 19 20 21 22 23 24 25 26 27 28 29 30 31 32 33 34 35 36 37\n",
      " 38 39 40 41 42 43 44 45 46 47 48]\n",
      "47\n",
      "[10 11 12 13 14 15 16 17 18 19 20 21 22 23 24 25 26 27 28 29 30 31 32 33 34\n",
      " 35 36 37 38 39 40 41 42 43 44 45 46]\n",
      "[20 21 22 23 24 25 26 27 28 29 30 31 32 33 34 35 36 37 38 39 40 41 42 43 44\n",
      " 45 46]\n",
      "[48 47 46 45 44 43 42 41 40 39 38 37 36 35 34 33 32 31 30 29 28 27 26 25 24\n",
      " 23 22 21 20 19 18 17 16 15 14 13 12 11 10]\n"
     ]
    }
   ],
   "source": [
    "X = np.arange(10, 49)\n",
    "Y = X[10:15] # This is called slicing\n",
    "print (Y)\n",
    "Y = X[3:] \n",
    "print (Y)\n",
    "print (X[-2])# Last but-one element\n",
    "print (X[:-2])\n",
    "print (X[10:-2])\n",
    "print (X[::-1]) # This will reverse the array"
   ]
  },
  {
   "cell_type": "code",
   "execution_count": 17,
   "metadata": {
    "collapsed": false
   },
   "outputs": [
    {
     "name": "stdout",
     "output_type": "stream",
     "text": [
      "[10 11 12 13 14 15 16 17 18 19 20 21 22 23 24 25 26 27 28 29 30 31 32 33 34\n",
      " 35 36 37 38 39 40 41 42 43 44 45 46 47 48]\n",
      "range(10, 49)\n"
     ]
    }
   ],
   "source": [
    "X = np.arange(10, 49) # Create a 1D array in the range of integers\n",
    "print (X) # \n",
    "\n",
    "# Python list equivalents\n",
    "X_ = range(10, 49) # In python 3.x this is a generator, while in 2.x this is iterator, see generator vs iterator\n",
    "print (X_)"
   ]
  },
  {
   "cell_type": "code",
   "execution_count": 38,
   "metadata": {
    "collapsed": false
   },
   "outputs": [
    {
     "data": {
      "text/plain": [
       "array([1, 3, 5, 7, 9])"
      ]
     },
     "execution_count": 38,
     "metadata": {},
     "output_type": "execute_result"
    }
   ],
   "source": [
    "# select based on a condition\n",
    "x[x % 2 == 1]"
   ]
  },
  {
   "cell_type": "markdown",
   "metadata": {},
   "source": [
    "Numpy allows you to play fast and loose with indexing"
   ]
  },
  {
   "cell_type": "code",
   "execution_count": 39,
   "metadata": {
    "collapsed": false
   },
   "outputs": [
    {
     "name": "stdout",
     "output_type": "stream",
     "text": [
      "[[ 0.  0.  0.  0.]\n",
      " [ 2.  2.  2.  2.]\n",
      " [ 4.  4.  4.  4.]]\n"
     ]
    }
   ],
   "source": [
    "A = np.empty((3,4))\n",
    "\n",
    "# Constant assigned to entire row\n",
    "for i in xrange(A.shape[0]):\n",
    "    A[i] = 2. * i\n",
    "    \n",
    "print A"
   ]
  },
  {
   "cell_type": "markdown",
   "metadata": {},
   "source": [
    "You can also pass in a list (or `np.array`) of indices"
   ]
  },
  {
   "cell_type": "code",
   "execution_count": 40,
   "metadata": {
    "collapsed": false
   },
   "outputs": [
    {
     "data": {
      "text/plain": [
       "array([ 18.,  16.,  14.,  12.,  10.,   8.,   6.,   4.,   2.,   0.])"
      ]
     },
     "execution_count": 40,
     "metadata": {},
     "output_type": "execute_result"
    }
   ],
   "source": [
    "X = 2. * np.arange(10)\n",
    "X[range(9,-1,-1)]  # The reverse of the list"
   ]
  },
  {
   "cell_type": "code",
   "execution_count": 41,
   "metadata": {
    "collapsed": false
   },
   "outputs": [
    {
     "data": {
      "text/plain": [
       "array([ 27.,  24.,  21.,  18.,  15.,  12.,   9.,   6.,   3.,   0.])"
      ]
     },
     "execution_count": 41,
     "metadata": {},
     "output_type": "execute_result"
    }
   ],
   "source": [
    "X[range(9,-1,-1)] = 3. * np.arange(10)   # Assign to the reverse of this list\n",
    "X"
   ]
  },
  {
   "cell_type": "code",
   "execution_count": 57,
   "metadata": {
    "collapsed": false
   },
   "outputs": [
    {
     "name": "stdout",
     "output_type": "stream",
     "text": [
      "[48 46 44 42 40 38 36 34 32 30 28 26 24 22 20 18 16 14 12 10]\n",
      "[19 17 15 13 11]\n"
     ]
    }
   ],
   "source": [
    "# Slicing the \n",
    "print (X[::-2]) # Syntax is [UPPER_LIMIT:LOWER_LIMIT:INCREMENT_STEPS]\n",
    "# Above is also equivalent to\n",
    "print (X[np.arange(9, -1, -2)])\n"
   ]
  },
  {
   "cell_type": "code",
   "execution_count": 24,
   "metadata": {
    "collapsed": false
   },
   "outputs": [
    {
     "data": {
      "text/plain": [
       "True"
      ]
     },
     "execution_count": 24,
     "metadata": {},
     "output_type": "execute_result"
    }
   ],
   "source": [
    "# Reverse an array\n",
    "print (X[::-1])\n"
   ]
  },
  {
   "cell_type": "code",
   "execution_count": 47,
   "metadata": {
    "collapsed": false
   },
   "outputs": [
    {
     "name": "stdout",
     "output_type": "stream",
     "text": [
      "[[ 1.  1.  1.  1.  1.  1.  1.  1.  1.  1.]\n",
      " [ 1.  0.  0.  0.  0.  0.  0.  0.  0.  1.]\n",
      " [ 1.  0.  0.  0.  0.  0.  0.  0.  0.  1.]\n",
      " [ 1.  0.  0.  0.  0.  0.  0.  0.  0.  1.]\n",
      " [ 1.  0.  0.  0.  0.  0.  0.  0.  0.  1.]\n",
      " [ 1.  0.  0.  0.  0.  0.  0.  0.  0.  1.]\n",
      " [ 1.  0.  0.  0.  0.  0.  0.  0.  0.  1.]\n",
      " [ 1.  0.  0.  0.  0.  0.  0.  0.  0.  1.]\n",
      " [ 1.  0.  0.  0.  0.  0.  0.  0.  0.  1.]\n",
      " [ 1.  1.  1.  1.  1.  1.  1.  1.  1.  1.]]\n"
     ]
    }
   ],
   "source": [
    "# For fun, create a array with 1 along the border\n",
    "Z = np.ones((10,10))\n",
    "Z[1:-1,1:-1] = 0\n",
    "print (Z)"
   ]
  },
  {
   "cell_type": "code",
   "execution_count": 59,
   "metadata": {
    "collapsed": false
   },
   "outputs": [
    {
     "name": "stdout",
     "output_type": "stream",
     "text": [
      "[[0 1 0 1 0 1 0 1]\n",
      " [1 0 1 0 1 0 1 0]\n",
      " [0 1 0 1 0 1 0 1]\n",
      " [1 0 1 0 1 0 1 0]\n",
      " [0 1 0 1 0 1 0 1]\n",
      " [1 0 1 0 1 0 1 0]\n",
      " [0 1 0 1 0 1 0 1]\n",
      " [1 0 1 0 1 0 1 0]]\n"
     ]
    }
   ],
   "source": [
    "# For fun, checker board pattern\n",
    "Z = np.zeros((8,8),dtype=int)\n",
    "Z[1::2,::2] = 1\n",
    "Z[::2,1::2] = 1\n",
    "print(Z)"
   ]
  },
  {
   "cell_type": "code",
   "execution_count": 61,
   "metadata": {
    "collapsed": false
   },
   "outputs": [
    {
     "name": "stdout",
     "output_type": "stream",
     "text": [
      "(array([3, 6, 6], dtype=int64), array([4, 5, 1], dtype=int64))\n",
      "(1, 5, 4)\n"
     ]
    }
   ],
   "source": [
    "# Converts a flat index or array of flat indices into a tuple of coordinate arrays.\n",
    "print (np.unravel_index([22, 41, 37], (7,6)))\n",
    "print(np.unravel_index(100,(6,7,8)))\n"
   ]
  },
  {
   "cell_type": "code",
   "execution_count": 67,
   "metadata": {
    "collapsed": false
   },
   "outputs": [
    {
     "name": "stdout",
     "output_type": "stream",
     "text": [
      "[ 0  1  2  3  4  5  6  7  8  9 10]\n",
      "[ 0  1  2  3 -4 -5 -6 -7 -8  9 10]\n"
     ]
    }
   ],
   "source": [
    "# Conditional slicing\n",
    "Z = np.arange(11)\n",
    "print (Z)\n",
    "Z[(3 < Z) & (Z <= 8)] *= -1 # Here we have multiplied certain elements with -1\n",
    "print (Z)\n"
   ]
  },
  {
   "cell_type": "markdown",
   "metadata": {},
   "source": [
    "### Conditional selection and max / min\n",
    "\n",
    "The `np.where` construct allows you to take values from one array when a condition is true and the values from another array when they are false."
   ]
  },
  {
   "cell_type": "code",
   "execution_count": 42,
   "metadata": {
    "collapsed": false
   },
   "outputs": [
    {
     "data": {
      "text/plain": [
       "array([0, 0, 0, 0, 0, 0, 6, 7, 8, 9])"
      ]
     },
     "execution_count": 42,
     "metadata": {},
     "output_type": "execute_result"
    }
   ],
   "source": [
    "x = np.arange(10)\n",
    "np.where(x > 5, x, 0)"
   ]
  },
  {
   "cell_type": "markdown",
   "metadata": {},
   "source": [
    "This can also be done manually, by taking advantage of the fact that `True` and `False` behave like `1` and `0` in math statements in Python."
   ]
  },
  {
   "cell_type": "code",
   "execution_count": 43,
   "metadata": {
    "collapsed": false
   },
   "outputs": [
    {
     "data": {
      "text/plain": [
       "array([0, 0, 0, 0, 0, 0, 6, 7, 8, 9])"
      ]
     },
     "execution_count": 43,
     "metadata": {},
     "output_type": "execute_result"
    }
   ],
   "source": [
    "(x > 5) * x + 0 * (x <= 5)"
   ]
  },
  {
   "cell_type": "markdown",
   "metadata": {},
   "source": [
    "`np.maximum` and `np.minimum` can compare two arrays or an array to a constant."
   ]
  },
  {
   "cell_type": "code",
   "execution_count": 44,
   "metadata": {
    "collapsed": false
   },
   "outputs": [
    {
     "name": "stdout",
     "output_type": "stream",
     "text": [
      "The larger of x and y\n",
      "[9 8 7 6 5 5 6 7 8 9]\n",
      "\n",
      "x capped at 5\n",
      "[0 1 2 3 4 5 5 5 5 5]\n"
     ]
    }
   ],
   "source": [
    "x = np.arange(10)\n",
    "y = np.arange(9, -1, -1)\n",
    "print \"The larger of x and y\"\n",
    "print np.maximum(x, y)\n",
    "print \n",
    "print \"x capped at 5\"\n",
    "print np.minimum(x, 5)"
   ]
  },
  {
   "cell_type": "code",
   "execution_count": 74,
   "metadata": {
    "collapsed": false
   },
   "outputs": [
    {
     "name": "stdout",
     "output_type": "stream",
     "text": [
      "10\n",
      "range(0, 5)\n",
      "10\n"
     ]
    }
   ],
   "source": [
    "# Author: Jake VanderPlas\n",
    "# Do this on the python shell...rather than here\n",
    "\n",
    "print(sum(range(5),-1)) # Here it is python sum\n",
    "print (range(5))\n",
    "from numpy import * # Here there is no canonical representation for numpy so all the function are import without np\n",
    "print(np.sum(range(5),-1)) # But here sum is related to numpy not python list operation\n"
   ]
  },
  {
   "cell_type": "markdown",
   "metadata": {},
   "source": [
    "### `np.matrix`\n",
    "\n",
    "The case of 2D arrays, or \"matrices,\" is given a special wrapper with different operations.  These are slightly different than arrays, which we'll explain later."
   ]
  },
  {
   "cell_type": "code",
   "execution_count": 62,
   "metadata": {
    "collapsed": false
   },
   "outputs": [
    {
     "data": {
      "text/plain": [
       "True"
      ]
     },
     "execution_count": 62,
     "metadata": {},
     "output_type": "execute_result"
    }
   ],
   "source": [
    "x = np.matrix(range(5))\n",
    "y = np.arange(5)\n",
    "np.all(x == y)"
   ]
  },
  {
   "cell_type": "code",
   "execution_count": 63,
   "metadata": {
    "collapsed": false
   },
   "outputs": [
    {
     "data": {
      "text/plain": [
       "False"
      ]
     },
     "execution_count": 63,
     "metadata": {},
     "output_type": "execute_result"
    }
   ],
   "source": [
    "type(x) is type(y)"
   ]
  },
  {
   "cell_type": "code",
   "execution_count": 64,
   "metadata": {
    "collapsed": false
   },
   "outputs": [
    {
     "data": {
      "text/plain": [
       "(True, False)"
      ]
     },
     "execution_count": 64,
     "metadata": {},
     "output_type": "execute_result"
    }
   ],
   "source": [
    "import numpy.matlib  # this import is oddly necessary for matrix code to work\n",
    "matrix_I = np.matlib.identity(3)\n",
    "array_I = np.eye(3)\n",
    "\n",
    "np.all(matrix_I == array_I), type(matrix_I) is type(array_I)"
   ]
  },
  {
   "cell_type": "markdown",
   "metadata": {},
   "source": [
    "## Operations (the verbs):\n",
    "\n",
    "In broad types the things we can do are:\n",
    "  - Create arrays.\n",
    "  - Slicing or reshaping: Taking a sub-block of a block of values.  Both slicing and reshaping are  examples of a \"view\" or a \"shallow copy,\" because they do not actually copy the underlying block of data.\n",
    "  - \"Universal functions\": This is numpy's name for functions that are applied term-by-term, like the arithmetic operations or `sin`.\n",
    "  - Linear algebra / matrix operations.\n",
    "  - Mathematical convenience functions: FFT, etc.\n",
    "  \n",
    "Here's a table that shows some example syntax:\n",
    "  \n",
    "   Command  |  Explanation\n",
    "   ---------|--------------\n",
    "  `np.array(python_list[, dtype='int'])` | Convert a Python list to an np array.  The dtype can be one of several things, such as 'int64', 'float32', 'float64', etc.\n",
    "  `np.ndarray(shape=[1,2,3], buffer=an_np_array, dtype='int')`  | Makes a higher dimensional array whose underlying block of data is the given np_array.\n",
    "  `np.arange(-5,5,1)` | Like Python's range, but slightly faster than np.array(range(-5,5,1)).\n",
    "  `+`, `*`, `-`, `/`, `np.sin`, ... | All of the standard numerical and mathematical functions are back.  They always operate term-by-term.  That is, `x+y` is ordinary vector addition but `x*y` is term-wise product (not dot product).\n",
    "   `np.dot(x,y)` or `x.dot(y)` | Inner product (along the last dimension, for n-D arrays).  Note that this includes matrix multiplication for 2-D arrays.\n",
    "   `an_np_array.reshape([1,2,3])`  |  Reshape an np.array or np.ndarray to one with different shape (but of the same size).\n",
    "   \n",
    "All pretty simple!  Let's do a few quick examples."
   ]
  },
  {
   "cell_type": "code",
   "execution_count": 75,
   "metadata": {
    "collapsed": false
   },
   "outputs": [
    {
     "data": {
      "text/plain": [
       "array([-5, -4, -3, -2, -1,  0,  1,  2,  3,  4])"
      ]
     },
     "execution_count": 75,
     "metadata": {},
     "output_type": "execute_result"
    }
   ],
   "source": [
    "x = np.arange(-5, 5, 1)  # Numpy will make intelligent guesses about your intended data type\n",
    "x                        # And will convert between them if needed:"
   ]
  },
  {
   "cell_type": "code",
   "execution_count": 76,
   "metadata": {
    "collapsed": false
   },
   "outputs": [
    {
     "data": {
      "text/plain": [
       "array([ 0.95892427,  0.7568025 , -0.14112001, -0.90929743, -0.84147098,\n",
       "        0.        ,  0.84147098,  0.90929743,  0.14112001, -0.7568025 ])"
      ]
     },
     "execution_count": 76,
     "metadata": {},
     "output_type": "execute_result"
    }
   ],
   "source": [
    "y = np.sin(x)\n",
    "y"
   ]
  },
  {
   "cell_type": "code",
   "execution_count": 77,
   "metadata": {
    "collapsed": false
   },
   "outputs": [
    {
     "data": {
      "text/plain": [
       "(dtype('int32'), dtype('float64'))"
      ]
     },
     "execution_count": 77,
     "metadata": {},
     "output_type": "execute_result"
    }
   ],
   "source": [
    "x.dtype, y.dtype"
   ]
  },
  {
   "cell_type": "code",
   "execution_count": 78,
   "metadata": {
    "collapsed": false
   },
   "outputs": [
    {
     "data": {
      "text/plain": [
       "array([-5.        , -3.88888889, -2.77777778, -1.66666667, -0.55555556,\n",
       "        0.55555556,  1.66666667,  2.77777778,  3.88888889,  5.        ])"
      ]
     },
     "execution_count": 78,
     "metadata": {},
     "output_type": "execute_result"
    }
   ],
   "source": [
    "np.linspace(-5, 5, 10)"
   ]
  },
  {
   "cell_type": "code",
   "execution_count": 19,
   "metadata": {
    "collapsed": false
   },
   "outputs": [
    {
     "data": {
      "text/plain": [
       "array([  1.00000000e+00,   3.16227766e+00,   1.00000000e+01,\n",
       "         3.16227766e+01,   1.00000000e+02,   3.16227766e+02,\n",
       "         1.00000000e+03,   3.16227766e+03,   1.00000000e+04])"
      ]
     },
     "execution_count": 19,
     "metadata": {},
     "output_type": "execute_result"
    }
   ],
   "source": [
    "np.logspace(0, 4, 9)"
   ]
  },
  {
   "cell_type": "markdown",
   "metadata": {},
   "source": [
    "Basic math operations:"
   ]
  },
  {
   "cell_type": "code",
   "execution_count": 20,
   "metadata": {
    "collapsed": false
   },
   "outputs": [
    {
     "data": {
      "text/plain": [
       "array([-10,  -8,  -6,  -4,  -2,   0,   2,   4,   6,   8])"
      ]
     },
     "execution_count": 20,
     "metadata": {},
     "output_type": "execute_result"
    }
   ],
   "source": [
    "2 * x"
   ]
  },
  {
   "cell_type": "code",
   "execution_count": 21,
   "metadata": {
    "collapsed": false
   },
   "outputs": [
    {
     "data": {
      "text/plain": [
       "array([25, 16,  9,  4,  1,  0,  1,  4,  9, 16])"
      ]
     },
     "execution_count": 21,
     "metadata": {},
     "output_type": "execute_result"
    }
   ],
   "source": [
    "x * x"
   ]
  },
  {
   "cell_type": "code",
   "execution_count": 22,
   "metadata": {
    "collapsed": false
   },
   "outputs": [
    {
     "data": {
      "text/plain": [
       "85"
      ]
     },
     "execution_count": 22,
     "metadata": {},
     "output_type": "execute_result"
    }
   ],
   "source": [
    "np.dot(x, x)"
   ]
  },
  {
   "cell_type": "code",
   "execution_count": 23,
   "metadata": {
    "collapsed": false
   },
   "outputs": [
    {
     "data": {
      "text/plain": [
       "85"
      ]
     },
     "execution_count": 23,
     "metadata": {},
     "output_type": "execute_result"
    }
   ],
   "source": [
    "x.dot(x)"
   ]
  },
  {
   "cell_type": "code",
   "execution_count": 24,
   "metadata": {
    "collapsed": false
   },
   "outputs": [
    {
     "data": {
      "text/plain": [
       "array([ 5.09112323,  4.07096426,  3.00331731,  2.19700292,  1.30693283,\n",
       "        0.        ,  1.30693283,  2.19700292,  3.00331731,  4.07096426])"
      ]
     },
     "execution_count": 24,
     "metadata": {},
     "output_type": "execute_result"
    }
   ],
   "source": [
    "np.sqrt(x**2 + y**2)\n",
    "print (np)"
   ]
  },
  {
   "cell_type": "code",
   "execution_count": 25,
   "metadata": {
    "collapsed": false
   },
   "outputs": [
    {
     "data": {
      "text/plain": [
       "array([[ 25,  20,  15,  10,   5,   0,  -5, -10, -15, -20],\n",
       "       [ 20,  16,  12,   8,   4,   0,  -4,  -8, -12, -16],\n",
       "       [ 15,  12,   9,   6,   3,   0,  -3,  -6,  -9, -12],\n",
       "       [ 10,   8,   6,   4,   2,   0,  -2,  -4,  -6,  -8],\n",
       "       [  5,   4,   3,   2,   1,   0,  -1,  -2,  -3,  -4],\n",
       "       [  0,   0,   0,   0,   0,   0,   0,   0,   0,   0],\n",
       "       [ -5,  -4,  -3,  -2,  -1,   0,   1,   2,   3,   4],\n",
       "       [-10,  -8,  -6,  -4,  -2,   0,   2,   4,   6,   8],\n",
       "       [-15, -12,  -9,  -6,  -3,   0,   3,   6,   9,  12],\n",
       "       [-20, -16, -12,  -8,  -4,   0,   4,   8,  12,  16]])"
      ]
     },
     "execution_count": 25,
     "metadata": {},
     "output_type": "execute_result"
    }
   ],
   "source": [
    "np.outer(x, x)"
   ]
  },
  {
   "cell_type": "code",
   "execution_count": 26,
   "metadata": {
    "collapsed": false
   },
   "outputs": [
    {
     "data": {
      "text/plain": [
       "array([-425, -340, -255, -170,  -85,    0,   85,  170,  255,  340])"
      ]
     },
     "execution_count": 26,
     "metadata": {},
     "output_type": "execute_result"
    }
   ],
   "source": [
    "np.outer(x, x).dot(x)"
   ]
  },
  {
   "cell_type": "markdown",
   "metadata": {
    "collapsed": false
   },
   "source": [
    "You can do basic stats on ndarrays:"
   ]
  },
  {
   "cell_type": "code",
   "execution_count": 27,
   "metadata": {
    "collapsed": false
   },
   "outputs": [
    {
     "data": {
      "text/plain": [
       "(-0.5, 2.8722813232690143)"
      ]
     },
     "execution_count": 27,
     "metadata": {},
     "output_type": "execute_result"
    }
   ],
   "source": [
    "# You can do basic stats on ndarrays:\n",
    "x.mean(), x.std()"
   ]
  },
  {
   "cell_type": "markdown",
   "metadata": {},
   "source": [
    "You can reshape an array, as long as the number of elements remains the same.  Note that the result of a reshape is a view onto the same data.  Changing one will change the other."
   ]
  },
  {
   "cell_type": "code",
   "execution_count": 28,
   "metadata": {
    "collapsed": false
   },
   "outputs": [
    {
     "data": {
      "text/plain": [
       "array([[-5, -4, -3, -2, -1],\n",
       "       [ 0,  1,  2,  3,  4]])"
      ]
     },
     "execution_count": 28,
     "metadata": {},
     "output_type": "execute_result"
    }
   ],
   "source": [
    "z = x.reshape(2, 5)\n",
    "z"
   ]
  },
  {
   "cell_type": "code",
   "execution_count": 29,
   "metadata": {
    "collapsed": false
   },
   "outputs": [
    {
     "data": {
      "text/plain": [
       "array([-5, -4, -3, -2, -1,  0, 10,  2,  3,  4])"
      ]
     },
     "execution_count": 29,
     "metadata": {},
     "output_type": "execute_result"
    }
   ],
   "source": [
    "z[1,1] = 10\n",
    "x"
   ]
  },
  {
   "cell_type": "code",
   "execution_count": 30,
   "metadata": {
    "collapsed": false
   },
   "outputs": [
    {
     "data": {
      "text/plain": [
       "array([[-5, -4],\n",
       "       [-3, -2],\n",
       "       [-1,  0],\n",
       "       [10,  2],\n",
       "       [ 3,  4]])"
      ]
     },
     "execution_count": 30,
     "metadata": {},
     "output_type": "execute_result"
    }
   ],
   "source": [
    "x.reshape(5, -1)"
   ]
  },
  {
   "cell_type": "markdown",
   "metadata": {},
   "source": [
    "You can also create an array of arbitrary shape and type:"
   ]
  },
  {
   "cell_type": "code",
   "execution_count": 31,
   "metadata": {
    "collapsed": false
   },
   "outputs": [
    {
     "data": {
      "text/plain": [
       "array([[[ 1,  2,  3],\n",
       "        [ 4,  5,  6],\n",
       "        [ 7,  8,  9]],\n",
       "\n",
       "       [[10, 11, 12],\n",
       "        [13, 14, 15],\n",
       "        [16, 17, 18]]])"
      ]
     },
     "execution_count": 31,
     "metadata": {},
     "output_type": "execute_result"
    }
   ],
   "source": [
    "np.ndarray(shape=(2,3,3), dtype=int, buffer=np.arange(1,100))"
   ]
  },
  {
   "cell_type": "code",
   "execution_count": 81,
   "metadata": {
    "collapsed": false
   },
   "outputs": [
    {
     "name": "stdout",
     "output_type": "stream",
     "text": [
      "[[ 0  0  0  0  0]\n",
      " [10 10  4  4 10]\n",
      " [32 34 14 18 39]]\n"
     ]
    }
   ],
   "source": [
    "# Matrix multiplications\n",
    "A = np.random.randint(0,10, (3,2))\n",
    "B = np.random.randint(0, 10, (2,5))\n",
    "X = A.dot(B)\n",
    "print (X)"
   ]
  },
  {
   "cell_type": "code",
   "execution_count": 84,
   "metadata": {
    "collapsed": false
   },
   "outputs": [
    {
     "name": "stdout",
     "output_type": "stream",
     "text": [
      "(5,)\n",
      "(5, 1)\n",
      "[55]\n",
      "(1, 5)\n"
     ]
    }
   ],
   "source": [
    "# 1D array matrix mutplications\n",
    "A = np.array([1, 2, 3, 4, 5])\n",
    "print (A.shape) # This is row matrix\n",
    "B = np.array([[1], [2], [3], [4], [5]]) # This is a column matrix\n",
    "print (B.shape)\n",
    "print (A.dot(B))\n",
    "# Sometime you can also do\n",
    "A = np.atleast_2d(A)\n",
    "print (A.shape)"
   ]
  },
  {
   "cell_type": "markdown",
   "metadata": {},
   "source": [
    "### Gotchas\n",
    "\n",
    "1. Matrix multiplication, on arrays, is denoted by `A.dot(B)`.  Transpose is denoted by `A.T`.  Fair enough. \n",
    "2. If `A` is a 1-D array, then we often think of it as a vector.  This will usually give you the right \"linear algebra notation\" answer, e.g. if `M` is a 2-D array of the right size then\n",
    "        A.dot(M)\n",
    "        M.dot(A)\n",
    "   represent the matrix products you think (where `A` is turned into a row or column vector as needed).\n",
    "   \n",
    "   If `A` is a 1-D array, then it is not the case that `A` is always a row (or column) vector -- numpy makes creative guesses about how to interpret it as a higher dimensional array.  For instance: `A.dot(A.T) = A.dot(A) = np.dot(A,A)` is the ordinary scalar dot product.  For the matrix outer product $A^T A$ one must use `np.outer(A)` or _explicitly reshape_ `A` as a column vector, i.e. a 2-D array with just one column:"
   ]
  },
  {
   "cell_type": "code",
   "execution_count": 32,
   "metadata": {
    "collapsed": false
   },
   "outputs": [
    {
     "data": {
      "text/plain": [
       "True"
      ]
     },
     "execution_count": 32,
     "metadata": {},
     "output_type": "execute_result"
    }
   ],
   "source": [
    "v = x[:, np.newaxis]\n",
    "np.all(v.dot(v.T) == np.outer(x, x))"
   ]
  },
  {
   "cell_type": "markdown",
   "metadata": {},
   "source": [
    "### Transpose\n",
    "\n",
    "A numpy array has two methods to transpose a matrix, `.T` and `.swapaxes`"
   ]
  },
  {
   "cell_type": "code",
   "execution_count": 45,
   "metadata": {
    "collapsed": false
   },
   "outputs": [
    {
     "data": {
      "text/plain": [
       "array([[ 0,  6, 12, 18],\n",
       "       [ 1,  7, 13, 19],\n",
       "       [ 2,  8, 14, 20],\n",
       "       [ 3,  9, 15, 21],\n",
       "       [ 4, 10, 16, 22],\n",
       "       [ 5, 11, 17, 23]])"
      ]
     },
     "execution_count": 45,
     "metadata": {},
     "output_type": "execute_result"
    }
   ],
   "source": [
    "A = np.arange(24).reshape(4,6)\n",
    "A.T"
   ]
  },
  {
   "cell_type": "code",
   "execution_count": 46,
   "metadata": {
    "collapsed": false
   },
   "outputs": [
    {
     "data": {
      "text/plain": [
       "True"
      ]
     },
     "execution_count": 46,
     "metadata": {},
     "output_type": "execute_result"
    }
   ],
   "source": [
    "At = A.swapaxes(0,1)\n",
    "np.all(A.T == At)"
   ]
  },
  {
   "cell_type": "markdown",
   "metadata": {},
   "source": [
    "### Matrix manipulations\n",
    "\n",
    "Numpy can do all the basic matrix manipulations from linear algebra."
   ]
  },
  {
   "cell_type": "code",
   "execution_count": 47,
   "metadata": {
    "collapsed": false
   },
   "outputs": [
    {
     "data": {
      "text/plain": [
       "((10,), (10, 1))"
      ]
     },
     "execution_count": 47,
     "metadata": {},
     "output_type": "execute_result"
    }
   ],
   "source": [
    "A = np.arange(10)\n",
    "\n",
    "# note the way you can \"promote\" a vector to a matrix\n",
    "v = A[:, np.newaxis]\n",
    "\n",
    "A.shape, v.shape"
   ]
  },
  {
   "cell_type": "code",
   "execution_count": 48,
   "metadata": {
    "collapsed": false
   },
   "outputs": [
    {
     "data": {
      "text/plain": [
       "(285, 285)"
      ]
     },
     "execution_count": 48,
     "metadata": {},
     "output_type": "execute_result"
    }
   ],
   "source": [
    "A.dot(A.T), A.T.dot(A)"
   ]
  },
  {
   "cell_type": "code",
   "execution_count": 49,
   "metadata": {
    "collapsed": false
   },
   "outputs": [
    {
     "data": {
      "text/plain": [
       "(array([[ 0,  0,  0,  0,  0,  0,  0,  0,  0,  0],\n",
       "        [ 0,  1,  2,  3,  4,  5,  6,  7,  8,  9],\n",
       "        [ 0,  2,  4,  6,  8, 10, 12, 14, 16, 18],\n",
       "        [ 0,  3,  6,  9, 12, 15, 18, 21, 24, 27],\n",
       "        [ 0,  4,  8, 12, 16, 20, 24, 28, 32, 36],\n",
       "        [ 0,  5, 10, 15, 20, 25, 30, 35, 40, 45],\n",
       "        [ 0,  6, 12, 18, 24, 30, 36, 42, 48, 54],\n",
       "        [ 0,  7, 14, 21, 28, 35, 42, 49, 56, 63],\n",
       "        [ 0,  8, 16, 24, 32, 40, 48, 56, 64, 72],\n",
       "        [ 0,  9, 18, 27, 36, 45, 54, 63, 72, 81]]), array([[285]]))"
      ]
     },
     "execution_count": 49,
     "metadata": {},
     "output_type": "execute_result"
    }
   ],
   "source": [
    "v.dot(v.T), v.T.dot(v)"
   ]
  },
  {
   "cell_type": "markdown",
   "metadata": {},
   "source": [
    "### Matrix Inversion\n",
    "\n",
    "While you can invert a 2-D numpy array using `np.linalg.inv`, it is recommended that you use `np.linalg.solve`, which is much more efficient"
   ]
  },
  {
   "cell_type": "code",
   "execution_count": 50,
   "metadata": {
    "collapsed": false
   },
   "outputs": [
    {
     "data": {
      "text/plain": [
       "array([ 2.,  3.])"
      ]
     },
     "execution_count": 50,
     "metadata": {},
     "output_type": "execute_result"
    }
   ],
   "source": [
    "A = np.array([[3,1], [1,2]])\n",
    "x = np.array([9,8])\n",
    "np.linalg.solve(A, x)"
   ]
  },
  {
   "cell_type": "markdown",
   "metadata": {},
   "source": [
    "### Singular Value Decomposition\n",
    "\n",
    "Finally, you can do the [SVD decomposition](https://en.wikipedia.org/wiki/Singular_value_decomposition) of a 2-D numpy array"
   ]
  },
  {
   "cell_type": "code",
   "execution_count": 51,
   "metadata": {
    "collapsed": false
   },
   "outputs": [
    {
     "data": {
      "text/plain": [
       "1.1546319456101628e-14"
      ]
     },
     "execution_count": 51,
     "metadata": {},
     "output_type": "execute_result"
    }
   ],
   "source": [
    "A = np.arange(24).reshape(4,6)\n",
    "U, x, V = np.linalg.svd(A)\n",
    "diag = np.zeros((4,6))\n",
    "diag[range(4), range(4)] = x\n",
    "diff = U.dot(diag).dot(V) - A\n",
    "\n",
    "np.abs(diff).max()"
   ]
  },
  {
   "cell_type": "markdown",
   "metadata": {},
   "source": [
    "## Persisting numpy objects\n",
    "\n",
    "You can save numpy objects as using `np.save` and `np.load` functions.  You can also save multiple numpy objects using the `np.savez` function."
   ]
  },
  {
   "cell_type": "code",
   "execution_count": 52,
   "metadata": {
    "collapsed": false
   },
   "outputs": [
    {
     "data": {
      "text/plain": [
       "True"
      ]
     },
     "execution_count": 52,
     "metadata": {},
     "output_type": "execute_result"
    }
   ],
   "source": [
    "x = np.arange(10)\n",
    "np.save('/tmp/x.npy', x)\n",
    "del x\n",
    "y = np.load('/tmp/x.npy')\n",
    "np.all(y == np.arange(10))"
   ]
  },
  {
   "cell_type": "markdown",
   "metadata": {},
   "source": [
    "### Performance of numpy arrays vs. python lists\n",
    "\n",
    "It's much faster to use numpy arrays than python lists."
   ]
  },
  {
   "cell_type": "code",
   "execution_count": 33,
   "metadata": {
    "collapsed": true
   },
   "outputs": [],
   "source": [
    "xl = range(10000)\n",
    "yl = range(10000)\n",
    "xa = np.arange(10000)\n",
    "ya = np.arange(10000)"
   ]
  },
  {
   "cell_type": "code",
   "execution_count": 34,
   "metadata": {
    "collapsed": false,
    "scrolled": true
   },
   "outputs": [
    {
     "name": "stdout",
     "output_type": "stream",
     "text": [
      "3 loops, best of 3: 1.32 ms per loop\n"
     ]
    }
   ],
   "source": [
    "%%timeit -n3\n",
    "\n",
    "[i + j for i, j in zip(xl, yl)]"
   ]
  },
  {
   "cell_type": "code",
   "execution_count": 35,
   "metadata": {
    "collapsed": false
   },
   "outputs": [
    {
     "name": "stdout",
     "output_type": "stream",
     "text": [
      "The slowest run took 4.12 times longer than the fastest. This could mean that an intermediate result is being cached.\n",
      "3 loops, best of 3: 9.3 µs per loop\n"
     ]
    }
   ],
   "source": [
    "%%timeit -n3\n",
    "\n",
    "xa + ya"
   ]
  },
  {
   "cell_type": "markdown",
   "metadata": {},
   "source": [
    "## Matplotlib\n",
    "\n",
    "_Matplotlib_ lets you plot things, and _pyplot_ is a layer on top of it to give it a MATLAB-like syntax. We'll go into more depth in the [visualization module](/tree/module6), but for now we'll just briefly give examples of\n",
    "\n",
    "- Line plots\n",
    "- Bar plots and histograms\n",
    "- Scatter plots"
   ]
  },
  {
   "cell_type": "markdown",
   "metadata": {},
   "source": [
    "### Line plot\n",
    "\n",
    "Matplotlib can do basic X-Y plots if you give it the `x` and `y` data of equal length.  Here is a plot of a few sample paths of Brownian Motion.\n",
    "\n",
    "Notice that calling `plt.plot` multiple results in multiple lines on the same figure.  Call `plt.figure` to create a new figure."
   ]
  },
  {
   "cell_type": "code",
   "execution_count": 49,
   "metadata": {
    "collapsed": false
   },
   "outputs": [
    {
     "data": {
      "image/png": "[encoded data removed]",
      "text/plain": [
       "<matplotlib.figure.Figure at 0x1410e403400>"
      ]
     },
     "metadata": {},
     "output_type": "display_data"
    }
   ],
   "source": [
    "# Line plot example\n",
    "xs = np.random.randn(5, 100)\n",
    "\n",
    "plt.title(\"A few paths of Brownian Motion\")\n",
    "bms = xs.cumsum(1)\n",
    "for bm in bms:\n",
    "    plt.plot(bm)"
   ]
  },
  {
   "cell_type": "markdown",
   "metadata": {},
   "source": [
    "### Scatter plot\n",
    "\n",
    "Matplotlib can generate 2D scatter plot data."
   ]
  },
  {
   "cell_type": "code",
   "execution_count": 50,
   "metadata": {
    "collapsed": false
   },
   "outputs": [
    {
     "data": {
      "text/plain": [
       "<matplotlib.collections.PathCollection at 0x1410e51a0b8>"
      ]
     },
     "execution_count": 50,
     "metadata": {},
     "output_type": "execute_result"
    },
    {
     "data": {
      "image/png": "[encoded data removed]",
      "text/plain": [
       "<matplotlib.figure.Figure at 0x1410e499630>"
      ]
     },
     "metadata": {},
     "output_type": "display_data"
    }
   ],
   "source": [
    "# Generate randomly sampled dots within the unit circle, with gamma-distributed radius\n",
    "N=250\n",
    "A=20\n",
    "xo,yo = np.random.uniform(low=-1, high=1, size=N), np.random.uniform(low=-1, high=1, size=N)\n",
    "so = A*np.random.gamma(4.5, 1.0, size=N)\n",
    "\n",
    "x = xo[xo**2+yo**2 < 1]\n",
    "y = yo[xo**2+yo**2 < 1]\n",
    "s = so[xo**2+yo**2 < 1]\n",
    "\n",
    "# Scatter plot, with _s_izes and translucent circles\n",
    "plt.scatter(x, y, s=s, alpha=0.5)"
   ]
  },
  {
   "cell_type": "markdown",
   "metadata": {},
   "source": [
    "### Histograms\n",
    "\n",
    "Matplotlib can also plot historgrams from raw count data."
   ]
  },
  {
   "cell_type": "code",
   "execution_count": 51,
   "metadata": {
    "collapsed": false
   },
   "outputs": [
    {
     "data": {
      "image/png": "[encoded data removed]",
      "text/plain": [
       "<matplotlib.figure.Figure at 0x1410e4d14a8>"
      ]
     },
     "metadata": {},
     "output_type": "display_data"
    }
   ],
   "source": [
    "data = np.random.gamma(4.5, 1.0, 10000)\n",
    "plt.hist(data, bins=50)\n",
    "plt.title(\"Gamma(4.5, 1.0) distribution, 10000 samples\")\n",
    "plt.xlabel(\"Value\")\n",
    "plt.ylabel(\"Occurances per 10,000\")\n",
    "plt.show()"
   ]
  },
  {
   "cell_type": "markdown",
   "metadata": {},
   "source": [
    "### Images\n",
    "\n",
    "Matplotlib can plot arrays as 2D images, using a color map that you specify."
   ]
  },
  {
   "cell_type": "code",
   "execution_count": 52,
   "metadata": {
    "collapsed": false
   },
   "outputs": [
    {
     "data": {
      "text/plain": [
       "<matplotlib.text.Text at 0x1410e6850f0>"
      ]
     },
     "execution_count": 52,
     "metadata": {},
     "output_type": "execute_result"
    },
    {
     "data": {
      "image/png": "[encoded data removed]",
      "text/plain": [
       "<matplotlib.figure.Figure at 0x1410e666048>"
      ]
     },
     "metadata": {},
     "output_type": "display_data"
    }
   ],
   "source": [
    "a = np.arange(-4, 4, 0.01)\n",
    "\n",
    "x, y = np.meshgrid(a, a)\n",
    "assert(x.shape == (len(a), len(a)))\n",
    "r = np.sqrt(x ** 2 + y ** 2)\n",
    "plt.imshow(r, cmap=plt.cm.viridis)\n",
    "plt.colorbar()\n",
    "plt.title(\"radius\")\n",
    "plt.xlabel(\"x\")\n",
    "plt.ylabel(\"y\")"
   ]
  },
  {
   "cell_type": "markdown",
   "metadata": {},
   "source": [
    "### Statistics\n",
    "\n",
    "Numpy can generate random numbers using functions in the `np.random` namespace.  Numpy arrays also have some built-in statistical methods."
   ]
  },
  {
   "cell_type": "code",
   "execution_count": 59,
   "metadata": {
    "collapsed": false
   },
   "outputs": [
    {
     "data": {
      "text/plain": [
       "(-0.057614618122226471, 0.93007882533417552, -5.7614618122226471)"
      ]
     },
     "execution_count": 59,
     "metadata": {},
     "output_type": "execute_result"
    }
   ],
   "source": [
    "x = np.random.randn(100)  # random standard normal of size 100\n",
    "x.mean(), x.std(), x.sum()"
   ]
  },
  {
   "cell_type": "markdown",
   "metadata": {},
   "source": [
    "Numpy also also supports more complex statistical functions."
   ]
  },
  {
   "cell_type": "code",
   "execution_count": 60,
   "metadata": {
    "collapsed": false
   },
   "outputs": [
    {
     "data": {
      "text/plain": [
       "(-1.1213127699321646, -0.037002605660185275, 1.1213406011030012)"
      ]
     },
     "execution_count": 60,
     "metadata": {},
     "output_type": "execute_result"
    }
   ],
   "source": [
    "np.percentile(x, 10), np.median(x), np.percentile(x, 90)"
   ]
  }
 ],
 "metadata": {
  "anaconda-cloud": {},
  "kernelspec": {
   "display_name": "Python [default]",
   "language": "python",
   "name": "python3"
  },
  "language_info": {
   "codemirror_mode": {
    "name": "ipython",
    "version": 3
   },
   "file_extension": ".py",
   "mimetype": "text/x-python",
   "name": "python",
   "nbconvert_exporter": "python",
   "pygments_lexer": "ipython3",
   "version": "3.5.2"
  }
 },
 "nbformat": 4,
 "nbformat_minor": 0
}
